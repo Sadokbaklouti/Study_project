{
 "cells": [
  {
   "cell_type": "markdown",
   "id": "73610a19",
   "metadata": {},
   "source": [
    "# Data Science Tools and Ecosystem"
   ]
  },
  {
   "attachments": {},
   "cell_type": "markdown",
   "id": "4150516e",
   "metadata": {},
   "source": [
    "## Introduction\n",
    "In this notebook, Data Science Tools and Ecosystem are summarized"
   ]
  },
  {
   "cell_type": "markdown",
   "id": "af04babf",
   "metadata": {},
   "source": [
    "#### Objectives:\n",
    "\n",
    "* Languages that Data Scientists use.\n",
    "* Libraries used by Data Scientists.\n",
    "* Comment on Data Science tools."
   ]
  },
  {
   "cell_type": "markdown",
   "id": "d9e08cda",
   "metadata": {},
   "source": [
    "## Some of the popular languages that Data Scientists use are:\n",
    "* Python\n",
    "* R\n",
    "* SQL"
   ]
  },
  {
   "cell_type": "markdown",
   "id": "33dcb3c7",
   "metadata": {},
   "source": [
    "## Some of the commonly used libraries used by Data Scientists include:\n",
    "1. Matplotlib\n",
    "2. Pandas\n",
    "3. Keras."
   ]
  },
  {
   "cell_type": "markdown",
   "id": "e1fefdbc",
   "metadata": {},
   "source": [
    "## Create a markdown cell with a table of Data Science tools\n",
    "|Data Science Tools|\n",
    "|:--------:|\n",
    "Apache Spark\n",
    "SAS\n",
    "BigMl"
   ]
  },
  {
   "cell_type": "markdown",
   "id": "64c31077",
   "metadata": {},
   "source": [
    "## Create a markdown cell introducing arithmetic expression examples\n",
    "### Below are a few examples of evaluating arithmetic expressions in Python:\n",
    "#### Example 1:"
   ]
  },
  {
   "cell_type": "code",
   "execution_count": 5,
   "id": "0df6071f",
   "metadata": {},
   "outputs": [
    {
     "name": "stdout",
     "output_type": "stream",
     "text": [
      "5400\n"
     ]
    },
    {
     "data": {
      "text/plain": [
       "318"
      ]
     },
     "execution_count": 5,
     "metadata": {},
     "output_type": "execute_result"
    }
   ],
   "source": [
    "x=300\n",
    "y=18\n",
    "print(x*y)\n",
    "x+y "
   ]
  },
  {
   "cell_type": "markdown",
   "id": "1cc7e2b4",
   "metadata": {},
   "source": [
    "#### Example 2:"
   ]
  },
  {
   "cell_type": "code",
   "execution_count": 6,
   "id": "8cca4549",
   "metadata": {},
   "outputs": [
    {
     "data": {
      "text/plain": [
       "0.9999999999998981"
      ]
     },
     "execution_count": 6,
     "metadata": {},
     "output_type": "execute_result"
    }
   ],
   "source": [
    "import numpy as np \n",
    "2*np.sin(np.pi * x)+ np.cos(np.pi * y)"
   ]
  },
  {
   "cell_type": "markdown",
   "id": "400d7383",
   "metadata": {},
   "source": [
    "## Create a code cell to multiply and add numbers"
   ]
  },
  {
   "cell_type": "code",
   "execution_count": 2,
   "id": "d231904d",
   "metadata": {},
   "outputs": [
    {
     "data": {
      "text/plain": [
       "17"
      ]
     },
     "execution_count": 2,
     "metadata": {},
     "output_type": "execute_result"
    }
   ],
   "source": [
    "# This a simple arithmetic expression to mutiply then add integers\n",
    "(3*4)+5"
   ]
  },
  {
   "cell_type": "markdown",
   "id": "ab3caceb",
   "metadata": {},
   "source": [
    "## Create a code cell to convert minutes to hours"
   ]
  },
  {
   "cell_type": "code",
   "execution_count": 14,
   "id": "adeb46d6",
   "metadata": {},
   "outputs": [
    {
     "name": "stdout",
     "output_type": "stream",
     "text": [
      "200 minutes is 3.3333333333333335 hours.\n"
     ]
    }
   ],
   "source": [
    "# This will convert 200 minutes to hours by diving by 60\n",
    "hour_numbers= 200 / 60\n",
    "print(f'200 minutes is {hour_numbers} hours.')"
   ]
  },
  {
   "cell_type": "markdown",
   "id": "f407638b",
   "metadata": {},
   "source": [
    "## Author\n",
    "### Sadek Baklouti"
   ]
  },
  {
   "cell_type": "code",
   "execution_count": null,
   "id": "040ded8c",
   "metadata": {},
   "outputs": [],
   "source": []
  }
 ],
 "metadata": {
  "kernelspec": {
   "display_name": "Python 3 (ipykernel)",
   "language": "python",
   "name": "python3"
  },
  "language_info": {
   "codemirror_mode": {
    "name": "ipython",
    "version": 3
   },
   "file_extension": ".py",
   "mimetype": "text/x-python",
   "name": "python",
   "nbconvert_exporter": "python",
   "pygments_lexer": "ipython3",
   "version": "3.9.13"
  }
 },
 "nbformat": 4,
 "nbformat_minor": 5
}
